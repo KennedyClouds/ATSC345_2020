{
 "cells": [
  {
   "cell_type": "markdown",
   "metadata": {},
   "source": [
    "This program loads Polar orbiter data Terra/Aqua/Soumi satellites and plots it for a given domain. You can download images from NASA Worldview: https://worldview.earthdata.nasa.gov/  Make sure to note bounds. <br>The shape file tl_2017_us_county.shp is not on github due to size. You can get it from: https://catalog.data.gov/dataset/tiger-line-shapefile-2017-nation-u-s-current-county-and-equivalent-national-shapefile"
   ]
  },
  {
   "cell_type": "code",
   "execution_count": null,
   "metadata": {},
   "outputs": [],
   "source": [
    "%matplotlib inline\n",
    "import warnings\n",
    "warnings.simplefilter('ignore')\n",
    "import matplotlib as mpl\n",
    "import matplotlib.pyplot as plt\n",
    "import cartopy.crs as ccrs\n",
    "import cartopy.feature as cfeature\n",
    "from PIL import Image\n",
    "import os, os.path, sys\n",
    "from cartopy.io.shapereader import Reader\n",
    "from cartopy.feature import ShapelyFeature\n",
    "import cartopy.feature as cfeature\n",
    "#Import files here, this is what you save from the NASA worldview website. \n",
    "image_modis1 = Image.open(\"data//sat/MODIS_crop_081120.png\")\n",
    "\n",
    "\n",
    "#List lat lon boundaries here.  ll=lower left,  ur = upper right\n",
    "ll_lon = -95.9766\n",
    "ll_lat = 40.0605\n",
    "ur_lon = -89.9121\n",
    "ur_lat = 43.2334\n",
    "cname='data//shapes//tl_2017_us_county.shp'\n",
    "counties = ShapelyFeature(Reader(cname).geometries(),\n",
    "                                ccrs.PlateCarree(), edgecolor='black',facecolor='none')\n",
    "#Create figure size. 5x3 at 600dpi\n",
    "fig = plt.figure(figsize=(3,5),dpi=600)\n",
    "\n",
    "#Add first subplot\n",
    "ax = fig.add_subplot(1, 1, 1, projection=ccrs.PlateCarree())\n",
    "#Plot image data\n",
    "ax.imshow(image_modis1,origin='upper', extent=[ll_lon, ur_lon, ll_lat, ur_lat])\n",
    "#Plot geography, see: https://scitools.org.uk/cartopy/docs/v0.14/matplotlib/feature_interface.html\n",
    "ax.add_feature(cfeature.COASTLINE.with_scale('10m'), edgecolor='black')\n",
    "ax.add_feature(cfeature.STATES.with_scale('10m'), edgecolor='black')\n",
    "ax.add_feature(cfeature.LAKES.with_scale('10m'), edgecolor='black',facecolor='none',linewidth=0.25)\n",
    "#Annotate Plot, note coordinates are in x/y vs lat lon\n",
    "#ax.annotate('(a)',xy=(0, 1.05), xycoords='axes fraction',fontweight=\"bold\",fontsize=6)\n",
    "ax.add_feature(counties,linewidth=0.3)\n",
    "ax.annotate('Damage',\n",
    "            xy=(0.4, 0.68), xycoords='axes fraction',\n",
    "            xytext=(-30, 20), textcoords='offset points',\n",
    "            bbox=dict(boxstyle=\"round\", fc=\"w\"),\n",
    "            arrowprops=dict(arrowstyle=\"->\"),fontsize=4)\n",
    "#set panel 1 title here\n",
    "ax.set_title('Derecho Damage from Space - 11 August 2020 ',fontweight=\"bold\",fontsize=6)\n",
    "\n",
    "#plt.savefig('output//Derecho_crops_081120.png',dpi=1200,bbox_inches='tight') \n",
    "plt.show()"
   ]
  },
  {
   "cell_type": "code",
   "execution_count": null,
   "metadata": {},
   "outputs": [],
   "source": []
  }
 ],
 "metadata": {
  "kernelspec": {
   "display_name": "Python 3",
   "language": "python",
   "name": "python3"
  },
  "language_info": {
   "codemirror_mode": {
    "name": "ipython",
    "version": 3
   },
   "file_extension": ".py",
   "mimetype": "text/x-python",
   "name": "python",
   "nbconvert_exporter": "python",
   "pygments_lexer": "ipython3",
   "version": "3.8.5"
  }
 },
 "nbformat": 4,
 "nbformat_minor": 1
}
